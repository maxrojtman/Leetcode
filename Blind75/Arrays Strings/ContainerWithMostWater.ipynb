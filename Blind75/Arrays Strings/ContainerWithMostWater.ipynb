{
 "cells": [
  {
   "cell_type": "markdown",
   "metadata": {},
   "source": [
    "<h2>11. Container With Most Water</h2>\n",
    "<div class=\"px-5 pt-4\"><div class=\"flex\"></div><div class=\"xFUwe\" data-track-load=\"description_content\"><p>You are given an integer array <code>height</code> of length <code>n</code>. There are <code>n</code> vertical lines drawn such that the two endpoints of the <code>i<sup>th</sup></code> line are <code>(i, 0)</code> and <code>(i, height[i])</code>.</p>\n",
    "\n",
    "<p>Find two lines that together with the x-axis form a container, such that the container contains the most water.</p>\n",
    "\n",
    "<p>Return <em>the maximum amount of water a container can store</em>.</p>\n",
    "\n",
    "<p><strong>Notice</strong> that you may not slant the container.</p>\n",
    "\n",
    "<p>&nbsp;</p>\n",
    "<p><strong class=\"example\">Example 1:</strong></p>\n",
    "<img alt=\"\" src=\"https://s3-lc-upload.s3.amazonaws.com/uploads/2018/07/17/question_11.jpg\" style=\"width: 600px; height: 287px;\">\n",
    "<pre><strong>Input:</strong> height = [1,8,6,2,5,4,8,3,7]\n",
    "<strong>Output:</strong> 49\n",
    "<strong>Explanation:</strong> The above vertical lines are represented by array [1,8,6,2,5,4,8,3,7]. In this case, the max area of water (blue section) the container can contain is 49.\n",
    "</pre>\n",
    "\n",
    "<p><strong class=\"example\">Example 2:</strong></p>\n",
    "\n",
    "<pre><strong>Input:</strong> height = [1,1]\n",
    "<strong>Output:</strong> 1\n",
    "</pre>\n",
    "\n",
    "<p>&nbsp;</p>\n",
    "<p><strong>Constraints:</strong></p>\n",
    "\n",
    "<ul>\n",
    "\t<li><code>n == height.length</code></li>\n",
    "\t<li><code>2 &lt;= n &lt;= 10<sup>5</sup></code></li>\n",
    "\t<li><code>0 &lt;= height[i] &lt;= 10<sup>4</sup></code></li>\n",
    "</ul>\n",
    "</div></div>"
   ]
  },
  {
   "cell_type": "code",
   "execution_count": 4,
   "metadata": {},
   "outputs": [],
   "source": [
    "def maxArea(heights):\n",
    "    maxArea = 0\n",
    "    l,r = 0, len(heights)-1\n",
    "    while l<r:\n",
    "        b = r-l\n",
    "        h = min(heights[l], heights[r])\n",
    "        if h == heights[r]: #Smaller value gets incremented\n",
    "            r -=1\n",
    "        else:\n",
    "            l +=1\n",
    "        maxArea = max(maxArea, b*h)\n",
    "    return maxArea\n"
   ]
  },
  {
   "cell_type": "code",
   "execution_count": 5,
   "metadata": {},
   "outputs": [
    {
     "name": "stdout",
     "output_type": "stream",
     "text": [
      "49\n"
     ]
    }
   ],
   "source": [
    "height = [1,8,6,2,5,4,8,3,7]\n",
    "print(maxArea(height))"
   ]
  }
 ],
 "metadata": {
  "kernelspec": {
   "display_name": "Python 3",
   "language": "python",
   "name": "python3"
  },
  "language_info": {
   "codemirror_mode": {
    "name": "ipython",
    "version": 3
   },
   "file_extension": ".py",
   "mimetype": "text/x-python",
   "name": "python",
   "nbconvert_exporter": "python",
   "pygments_lexer": "ipython3",
   "version": "3.11.1"
  }
 },
 "nbformat": 4,
 "nbformat_minor": 2
}
