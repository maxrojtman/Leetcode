{
 "cells": [
  {
   "cell_type": "markdown",
   "metadata": {},
   "source": [
    "<h2> 153. Find Minimum in Rotated Sorted Array</h2>"
   ]
  },
  {
   "cell_type": "code",
   "execution_count": 4,
   "metadata": {},
   "outputs": [
    {
     "name": "stdout",
     "output_type": "stream",
     "text": [
      "4\n",
      "6\n",
      "7\n",
      "6\n"
     ]
    }
   ],
   "source": [
    "nums = [1,5,12,30,85,209,330, 331]\n",
    "# nums = [3,4,5,1,2]\n",
    "l,r  = 0, len(nums)\n",
    "target = 120\n",
    "\n",
    "while (l < r):\n",
    "    m = (l+r)//2\n",
    "    if target >= nums[l]: \n",
    "        l = m #look towards the right\n",
    "    else:  #Put on right window\n",
    "        r = m\n",
    "    print(m)\n",
    "\n",
    "\n",
    "\n"
   ]
  },
  {
   "cell_type": "code",
   "execution_count": 17,
   "metadata": {},
   "outputs": [
    {
     "name": "stdout",
     "output_type": "stream",
     "text": [
      "1\n"
     ]
    }
   ],
   "source": [
    "nums = [2,4,5,6,1]\n",
    "res = nums[0]\n",
    "l,r = 0, len(nums)-1\n",
    "while l <= r:\n",
    "    if nums[l] < nums[r]:#ALREADY SORTED\n",
    "        res = min(res, nums[l])\n",
    "        break\n",
    "    m = (l+r)//2\n",
    "    res = min(res, nums[m])\n",
    "    if nums[m] >= nums[l]: #[l...m...r] we want to go to the right side\n",
    "        l = m+1\n",
    "    else:\n",
    "        r = m-1\n",
    "print(nums[m])"
   ]
  },
  {
   "cell_type": "markdown",
   "metadata": {},
   "source": [
    "create a field to store result\n",
    "create a left and right pointer\n",
    "while left pointer <= right pointer:\n",
    "if value at Left < value at Right, its sorted, so return the value at left the min\n",
    "create a midpoint\n",
    "check and see if midpoint is the smallest\n",
    "check the middle value, is it larger than the left? if so set left to the middle+1\n",
    "else check the right value, i set right to the middle-1\n",
    "\n",
    "\n"
   ]
  },
  {
   "cell_type": "code",
   "execution_count": null,
   "metadata": {},
   "outputs": [],
   "source": [
    "nums = [6,7,8,2,3,4]\n",
    "res = nums[0]\n",
    "l,r = 0, len(nums)-1\n",
    "while(l<=r):\n",
    "    if nums[l] < nums[r]: #subarray has been sorted\n",
    "        res = min(res, nums[l])\n",
    "        break\n",
    "    m = (l+r)//2\n",
    "    res = min(res, nums[m])\n",
    "    if nums[m] > nums[r]:\n",
    "        l = m + 1\n",
    "    else:\n",
    "        r = m - 1\n",
    "    \n"
   ]
  }
 ],
 "metadata": {
  "kernelspec": {
   "display_name": "Python 3",
   "language": "python",
   "name": "python3"
  },
  "language_info": {
   "codemirror_mode": {
    "name": "ipython",
    "version": 3
   },
   "file_extension": ".py",
   "mimetype": "text/x-python",
   "name": "python",
   "nbconvert_exporter": "python",
   "pygments_lexer": "ipython3",
   "version": "3.11.1"
  }
 },
 "nbformat": 4,
 "nbformat_minor": 2
}
