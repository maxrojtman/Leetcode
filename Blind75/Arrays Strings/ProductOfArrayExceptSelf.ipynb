{
 "cells": [
  {
   "cell_type": "markdown",
   "metadata": {},
   "source": [
    "<h2>238. Product of Array Except Self</h2>\n",
    "<div class=\"px-5 pt-4\"><div class=\"flex\"></div><div class=\"xFUwe\" data-track-load=\"description_content\"><p>Given an integer array <code>nums</code>, return <em>an array</em> <code>answer</code> <em>such that</em> <code>answer[i]</code> <em>is equal to the product of all the elements of</em> <code>nums</code> <em>except</em> <code>nums[i]</code>.</p>\n",
    "\n",
    "<p>The product of any prefix or suffix of <code>nums</code> is <strong>guaranteed</strong> to fit in a <strong>32-bit</strong> integer.</p>\n",
    "\n",
    "<p>You must write an algorithm that runs in&nbsp;<code>O(n)</code>&nbsp;time and without using the division operation.</p>\n",
    "\n",
    "<p>&nbsp;</p>\n",
    "<p><strong class=\"example\">Example 1:</strong></p>\n",
    "<pre><strong>Input:</strong> nums = [1,2,3,4]\n",
    "<strong>Output:</strong> [24,12,8,6]\n",
    "</pre><p><strong class=\"example\">Example 2:</strong></p>\n",
    "<pre><strong>Input:</strong> nums = [-1,1,0,-3,3]\n",
    "<strong>Output:</strong> [0,0,9,0,0]\n",
    "</pre>\n",
    "<p>&nbsp;</p>\n",
    "<p><strong>Constraints:</strong></p>\n",
    "\n",
    "<ul>\n",
    "\t<li><code>2 &lt;= nums.length &lt;= 10<sup>5</sup></code></li>\n",
    "\t<li><code>-30 &lt;= nums[i] &lt;= 30</code></li>\n",
    "\t<li>The product of any prefix or suffix of <code>nums</code> is <strong>guaranteed</strong> to fit in a <strong>32-bit</strong> integer.</li>\n",
    "</ul>\n",
    "\n",
    "<p>&nbsp;</p>\n",
    "<p><strong>Follow up:</strong>&nbsp;Can you solve the problem in <code>O(1)</code>&nbsp;extra&nbsp;space complexity? (The output array <strong>does not</strong> count as extra space for space complexity analysis.)</p>\n",
    "</div></div>"
   ]
  },
  {
   "cell_type": "code",
   "execution_count": null,
   "metadata": {},
   "outputs": [],
   "source": [
    "nums = [1,2,3,4]\n",
    "pre = [1]*len(nums)\n",
    "post = [1]*len(nums)\n",
    "sum = 1\n",
    "for index in range(len(nums)):\n",
    "    pre[index]= nums[index]*sum\n",
    "    sum = pre[index]\n",
    "print(pre)"
   ]
  }
 ],
 "metadata": {
  "language_info": {
   "name": "python"
  }
 },
 "nbformat": 4,
 "nbformat_minor": 2
}
