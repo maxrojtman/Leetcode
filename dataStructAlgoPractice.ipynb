{
 "cells": [
  {
   "cell_type": "code",
   "execution_count": 59,
   "metadata": {},
   "outputs": [
    {
     "name": "stdout",
     "output_type": "stream",
     "text": [
      "10\n"
     ]
    }
   ],
   "source": [
    "class Node:\n",
    "    def __init__(self, data):\n",
    "        self.left = None\n",
    "        self.right = None\n",
    "        self.data = data\n",
    "    def addLeftRightChildren(self, left, right):\n",
    "        self.left = left\n",
    "        self.right = right\n",
    "    def PrintSequentialRepresentation(self):\n",
    "        print(self.data, end=\"\")\n",
    "        if self.left != None:\n",
    "            self.left.PrintSequentialRepresentation() \n",
    "        else: \n",
    "            print(\"/\", end=\"\")\n",
    "        if self.right != None:\n",
    "            self.right.PrintSequentialRepresentation()\n",
    "        else:\n",
    "            print(\"/\",end=\"\")\n",
    "\n",
    "    def PrintTree(self):\n",
    "        print(self.data)\n",
    "root = Node(10)\n",
    "root.PrintTree()"
   ]
  },
  {
   "cell_type": "markdown",
   "metadata": {},
   "source": [
    "Array representation of tree"
   ]
  },
  {
   "cell_type": "code",
   "execution_count": 54,
   "metadata": {},
   "outputs": [],
   "source": [
    "# create a factory\n",
    "class TreeFactory:\n",
    "    def __init__(self, endChar):\n",
    "        self.map = {}\n",
    "        curr_char = ord('A')\n",
    "        end_char = ord(endChar.upper())\n",
    "        while curr_char <= end_char:\n",
    "            self.map[chr(curr_char)] = Node(chr(curr_char))\n",
    "            curr_char+=1\n",
    "    def printOut(self):\n",
    "        print(self.map)\n",
    "     "
   ]
  },
  {
   "cell_type": "code",
   "execution_count": 60,
   "metadata": {},
   "outputs": [],
   "source": [
    "g = TreeFactory('E')\n",
    "g.map['A'].addLeftRightChildren(g.map['B'], g.map['C'])\n",
    "g.map['C'].addLeftRightChildren(None, g.map['D'])\n",
    "g.map['D'].addLeftRightChildren(g.map['E'], None)\n",
    "\n"
   ]
  },
  {
   "cell_type": "code",
   "execution_count": 61,
   "metadata": {},
   "outputs": [
    {
     "name": "stdout",
     "output_type": "stream",
     "text": [
      "AB//C/DE///"
     ]
    }
   ],
   "source": [
    "g.map['A'].PrintSequentialRepresentation()"
   ]
  }
 ],
 "metadata": {
  "kernelspec": {
   "display_name": "Python 3",
   "language": "python",
   "name": "python3"
  },
  "language_info": {
   "codemirror_mode": {
    "name": "ipython",
    "version": 3
   },
   "file_extension": ".py",
   "mimetype": "text/x-python",
   "name": "python",
   "nbconvert_exporter": "python",
   "pygments_lexer": "ipython3",
   "version": "3.11.1"
  }
 },
 "nbformat": 4,
 "nbformat_minor": 2
}
